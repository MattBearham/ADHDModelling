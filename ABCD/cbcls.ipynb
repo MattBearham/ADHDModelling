{
 "cells": [
  {
   "cell_type": "code",
   "execution_count": 57,
   "id": "ab40a82f",
   "metadata": {},
   "outputs": [],
   "source": [
    "import pandas as pd\n",
    "import numpy as np\n",
    "from sklearn.linear_model import LogisticRegression\n",
    "from sklearn.model_selection import train_test_split\n",
    "from matplotlib import pyplot as plt\n",
    "from sklearn import svm\n",
    "from sklearn.ensemble import RandomForestClassifier\n",
    "from sklearn.metrics import accuracy_score, confusion_matrix,roc_curve, roc_auc_score, precision_score, recall_score, precision_recall_curve\n",
    "from sklearn.metrics import f1_score\n",
    "from tqdm.notebook import tqdm"
   ]
  },
  {
   "cell_type": "code",
   "execution_count": 58,
   "id": "ad0394a6",
   "metadata": {},
   "outputs": [
    {
     "name": "stderr",
     "output_type": "stream",
     "text": [
      "C:\\Users\\Matth\\miniconda3\\lib\\site-packages\\IPython\\core\\interactiveshell.py:3186: DtypeWarning: Columns (1,2,3,7,10,11,13,14,15,17,18,19,21,22,23,25,26,27,29,30,31,33,34,35,37,38,39,41,42,43,45,46,47,49,50,51,53,54,55,57,58,59,61,62,63,65,66,67,69,70,71,73,74,75,77,78,79,81,82,83,85,86,87,89,90) have mixed types.Specify dtype option on import or set low_memory=False.\n",
      "  interactivity=interactivity, compiler=compiler, result=result)\n"
     ]
    },
    {
     "name": "stdout",
     "output_type": "stream",
     "text": [
      "37293\n"
     ]
    }
   ],
   "source": [
    "df = pd.read_csv('cbcls.csv')\n",
    "df = df.dropna(thresh = 15)\n",
    "descriptions = df.iloc[0]\n",
    "df = df.iloc[1:]\n",
    "\n",
    "print(len(df))"
   ]
  },
  {
   "cell_type": "code",
   "execution_count": 59,
   "id": "56cc1279",
   "metadata": {},
   "outputs": [
    {
     "name": "stdout",
     "output_type": "stream",
     "text": [
      "Unnamed: 0                                                                 0\n",
      "collection_id                                                  collection_id\n",
      "abcd_cbcls01_id                                              abcd_cbcls01_id\n",
      "dataset_id                                                        dataset_id\n",
      "subjectkey                 The NDAR Global Unique Identifier (GUID) for r...\n",
      "                                                 ...                        \n",
      "cbcl_scr_07_stress_nm      Stress CBCL Scale2007 Scale (number of missing...\n",
      "cbcl_scr_07_stress_nm_2    Stress CBCL Scale2007 Scale (number of missing...\n",
      "collection_title                                            collection_title\n",
      "study_cohort_name                                          study_cohort_name\n",
      "adhd                                                                       0\n",
      "Name: 0, Length: 94, dtype: object\n"
     ]
    }
   ],
   "source": [
    "print(descriptions)"
   ]
  },
  {
   "cell_type": "code",
   "execution_count": 60,
   "id": "afae85fa",
   "metadata": {},
   "outputs": [],
   "source": [
    "X = df.iloc[:,7:90:4]\n",
    "y = df['adhd']"
   ]
  },
  {
   "cell_type": "code",
   "execution_count": 62,
   "id": "3b93ff5a",
   "metadata": {},
   "outputs": [],
   "source": [
    "X_train, X_test, y_train, y_test = train_test_split(X, y, test_size=0.2, stratify=y)"
   ]
  },
  {
   "cell_type": "code",
   "execution_count": 63,
   "id": "7c8cede8",
   "metadata": {},
   "outputs": [
    {
     "name": "stderr",
     "output_type": "stream",
     "text": [
      "C:\\Users\\Matth\\miniconda3\\lib\\site-packages\\sklearn\\linear_model\\_logistic.py:765: ConvergenceWarning: lbfgs failed to converge (status=1):\n",
      "STOP: TOTAL NO. of ITERATIONS REACHED LIMIT.\n",
      "\n",
      "Increase the number of iterations (max_iter) or scale the data as shown in:\n",
      "    https://scikit-learn.org/stable/modules/preprocessing.html\n",
      "Please also refer to the documentation for alternative solver options:\n",
      "    https://scikit-learn.org/stable/modules/linear_model.html#logistic-regression\n",
      "  extra_warning_msg=_LOGISTIC_SOLVER_CONVERGENCE_MSG)\n"
     ]
    },
    {
     "data": {
      "text/plain": [
       "LogisticRegression(class_weight={0: 1266, 1: 9149})"
      ]
     },
     "execution_count": 63,
     "metadata": {},
     "output_type": "execute_result"
    }
   ],
   "source": [
    "model = LogisticRegression(class_weight={0:1266,1:9149})\n",
    "model.fit(X_train,y_train)"
   ]
  },
  {
   "cell_type": "code",
   "execution_count": 64,
   "id": "e3ac0198",
   "metadata": {},
   "outputs": [
    {
     "name": "stdout",
     "output_type": "stream",
     "text": [
      "*** The 5 least predictive measures were (odds ratio): ***\n",
      "21. Age in months at the time of the interview/test/sampling/imaging.: 0.997\n",
      "20. Thought CBCL Syndrome Scale (t-score): 0.996\n",
      "19. Somatic CBCL Syndrome Scale (t-score): 0.99\n",
      "18. AnxDisord CBCL DSM5 Scale (t-score): 0.987\n",
      "17. Opposit CBCL DSM5 Scale (t-score): 1.016\n",
      "\n",
      "*** The 5 most predictive measures were (odds ratio): ***\n",
      "5. External CBCL Syndrome Scale (t-score): 0.95\n",
      "4. Stress CBCL Scale2007 Scale (t-score): 1.059\n",
      "3. Sluggish Cognitive Tempo (SCT) CBCL Scale2007 Scale (t-score): 0.944\n",
      "2. Attention CBCL Syndrome Scale (t-score): 1.099\n",
      "1. TotProb CBCL Syndrome Scale (t-score): 1.196\n"
     ]
    }
   ],
   "source": [
    "importance = model.coef_[0]\n",
    "\n",
    "coefficients = []\n",
    "for i in range(len(importance)):\n",
    "    coefficients.append((X.columns[i],importance[i]))\n",
    "    \n",
    "to_show = 5  \n",
    "\n",
    "sorted_coef = sorted(coefficients,key=lambda tup:abs(tup[1]))\n",
    "bottom_5 = sorted_coef[:to_show]\n",
    "top_5 = sorted_coef[-to_show:]\n",
    "\n",
    "print(f'*** The {to_show} least predictive measures were (odds ratio): ***')\n",
    "for index,(label,value) in enumerate(bottom_5):\n",
    "    print(f\"{len(coefficients)-index}. {descriptions[label].split(' / ')[0]}: {round(np.exp(value),3)}\")\n",
    "print(f'\\n*** The {to_show} most predictive measures were (odds ratio): ***')\n",
    "for index,(label,value) in enumerate(top_5):\n",
    "    print(f\"{to_show-index}. {descriptions[label].split('. / ')[0]}: {round(np.exp(value),3)}\")"
   ]
  },
  {
   "cell_type": "code",
   "execution_count": 65,
   "id": "7ed3f101",
   "metadata": {},
   "outputs": [
    {
     "name": "stdout",
     "output_type": "stream",
     "text": [
      "0.7849577691379541\n"
     ]
    }
   ],
   "source": [
    "score = model.score(X_test,y_test)\n",
    "print(score)"
   ]
  },
  {
   "cell_type": "code",
   "execution_count": null,
   "id": "29b197a6",
   "metadata": {},
   "outputs": [],
   "source": []
  }
 ],
 "metadata": {
  "kernelspec": {
   "display_name": "Python 3",
   "language": "python",
   "name": "python3"
  },
  "language_info": {
   "codemirror_mode": {
    "name": "ipython",
    "version": 3
   },
   "file_extension": ".py",
   "mimetype": "text/x-python",
   "name": "python",
   "nbconvert_exporter": "python",
   "pygments_lexer": "ipython3",
   "version": "3.7.7"
  }
 },
 "nbformat": 4,
 "nbformat_minor": 5
}
